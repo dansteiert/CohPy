{
 "cells": [
  {
   "cell_type": "code",
   "execution_count": 17,
   "metadata": {},
   "outputs": [],
   "source": [
    "# Jupyter Notebook used to train multiple ANNs for Regression tasks\n",
    "# Not important as other Regression Models prove superior\n",
    "\n",
    "import pandas as pd\n",
    "import numpy as np\n",
    "from sklearn.model_selection import train_test_split\n",
    "from matplotlib import pyplot as plt\n",
    "import keras\n",
    "from keras.models import Sequential\n",
    "from keras.layers import Dense# Neural network\n",
    "import numpy as np\n",
    "from sklearn.linear_model import LinearRegression\n",
    "import tensorflow as tf\n",
    "from sklearn.metrics import r2_score\n",
    "\n",
    "\n",
    "\n",
    "\n",
    "df = pd.read_csv(\"Regression_data.csv\", delimiter = ',', encoding = \"ISO-8859-1\")\n",
    "df = pd.DataFrame(df )\n",
    "\n",
    "df.rename(columns=df.iloc[0])\n",
    "df = df.replace(np.nan, 0)\n",
    "df = df.replace(np.inf, 0)\n",
    "\n",
    "\n",
    "features = [\"Adjective Overlap\",\"Adjective Verb Quotient\",\"Adverb Overlap\",\"All Word Overlap\",\n",
    "            \"Content word-functional word ratio\",\"Document length (in sentences)\",\n",
    "            \"Document length (in words)\",\"Flescher Kincaid Grade Level\",\"Flescher Reading Ease\",\n",
    "            \"Incidence logicals\",\"Maximal sentence length\",\"Mean Concretness Score\",\"Mean articles per sentence\",\n",
    "            \"Mean conjunctions per sentence\",\"Mean lexical diversity per sentence\",\n",
    "            \"Mean pronouns per sentence\",\"Mean punctuation per sentence\",\"Mean sentence length\",\n",
    "            \"Mean sentiment shift\",\"Mean syllable count\",\"Mean tense changes\",\"Mean word length\",\n",
    "            \"Noun Pronoun Overlap\",\"Noun overlap\",\"Pronoun overlap\",\"Pronoun-noun ratio\",\n",
    "            \"Type-token ratio adjectives\",\"Type-token ratio adverbs\",\"Type-token ratio all words\",\n",
    "            \"Type-token ratio noun and pronoun\",\"Type-token ratio nouns\",\"Type-token ratio pronouns\",\n",
    "            \"Type-token ratio verbs\",\"Unique Content Incidence\",\"Unique word incidence\",\"Verb Overlap\",\n",
    "            \"Vocabulary correlation\",\"affective shift Anger\",\"affective shift Arousal\",\n",
    "            \"affective shift Disgust\",\"affective shift Fear\",\"affective shift Happiness\",\n",
    "            \"affective shift Joy\",\"affective shift Sadness\",\"affective shift Valency\",\n",
    "            \"incidence connective  Adversative Connectives\",\"incidence connective Causal Connectives\",\n",
    "            \"incidence connective Explanatory Connectives\",\"incidence connective Ordering Connectives\",\n",
    "            \"incidence connective Supporting Connectives\",\"incidence connective Temporal Connectives\",\n",
    "            \"log word frequency\"]\n",
    "\n",
    "\n",
    "\n",
    "SWRF = df.loc[[ele.startswith(\"SWRF-V_Rohdaten\") for ele in df['Title']]]\n",
    "ZVV = df.loc[[ele.startswith(\"Zweisatz_Vorstudie_Verstehen\") for ele in df['Title']]]\n",
    "CS = df.loc[[ele.startswith(\"English_novel_christie_styles_sents\") for ele in df['Title']]]\n",
    "\n",
    "SWRF_X_data = SWRF[features].values   \n",
    "SWRF_Y_data = SWRF[\"continuous_label\"].values\n",
    "\n",
    "ZVV_X_data = ZVV[features].values   \n",
    "ZVV_Y_data = ZVV[\"continuous_label\"].values\n",
    "\n",
    "CS_X_data = CS[features].values   \n",
    "CS_Y_data = CS[\"continuous_label\"].values"
   ]
  },
  {
   "cell_type": "code",
   "execution_count": 4,
   "metadata": {},
   "outputs": [
    {
     "data": {
      "text/plain": [
       "0.5241927203897077"
      ]
     },
     "execution_count": 4,
     "metadata": {},
     "output_type": "execute_result"
    }
   ],
   "source": [
    "SWRF_reg = LinearRegression().fit(SWRF_X_data , SWRF_Y_data)\n",
    "\n",
    "SWRF_reg.score(SWRF_X_data , SWRF_Y_data)"
   ]
  },
  {
   "cell_type": "code",
   "execution_count": 5,
   "metadata": {},
   "outputs": [
    {
     "data": {
      "text/plain": [
       "0.41599315507320234"
      ]
     },
     "execution_count": 5,
     "metadata": {},
     "output_type": "execute_result"
    }
   ],
   "source": [
    "ZVV_reg = LinearRegression().fit(ZVV_X_data , ZVV_Y_data)\n",
    "\n",
    "ZVV_reg.score(ZVV_X_data , ZVV_Y_data)"
   ]
  },
  {
   "cell_type": "code",
   "execution_count": 18,
   "metadata": {},
   "outputs": [
    {
     "data": {
      "text/plain": [
       "0.0791524542321177"
      ]
     },
     "execution_count": 18,
     "metadata": {},
     "output_type": "execute_result"
    }
   ],
   "source": [
    "CS_reg = LinearRegression().fit(CS_X_data , CS_Y_data)\n",
    "\n",
    "CS_reg.score(CS_X_data , CS_Y_data)"
   ]
  },
  {
   "cell_type": "code",
   "execution_count": 20,
   "metadata": {},
   "outputs": [],
   "source": [
    "def model_trainer(X_data, Y_data, iteration):\n",
    "    best_r2 = -100000000\n",
    "    for i in range(0,iteration):\n",
    "        \n",
    "        model = Sequential()\n",
    "        model.add(Dense(128, input_dim = X_data.shape[1] , activation=\"relu\"))\n",
    "        model.add(Dense(1, kernel_initializer='normal'))\n",
    "        model.compile(loss=\"mean_squared_error\", optimizer='adam')\n",
    "    \n",
    "        history = model.fit(X_data, Y_data, epochs=100, batch_size=32, verbose =0)\n",
    "        prediction = model.predict(X_data)\n",
    "\n",
    "        current_r2 = r2_score(Y_data, prediction)\n",
    "        \n",
    "        if current_r2 > best_r2:\n",
    "            best_r2 = current_r2\n",
    "            best_model = model\n",
    "    \n",
    "    return best_model, best_r2"
   ]
  },
  {
   "cell_type": "code",
   "execution_count": 21,
   "metadata": {},
   "outputs": [
    {
     "name": "stdout",
     "output_type": "stream",
     "text": [
      "-0.018268471665790376\n"
     ]
    }
   ],
   "source": [
    "CS_best_model, CS_best_r2 = model_trainer(CS_X_data , CS_Y_data, 100)\n",
    "print(CS_best_r2)"
   ]
  },
  {
   "cell_type": "code",
   "execution_count": 159,
   "metadata": {},
   "outputs": [
    {
     "name": "stdout",
     "output_type": "stream",
     "text": [
      "0.29523142060192686\n"
     ]
    }
   ],
   "source": [
    "SWRF_best_model, SWRF_best_r2 = model_trainer(SWRF_X_data , SWRF_Y_data, 100)\n",
    "print(SWRF_best_r2)\n"
   ]
  },
  {
   "cell_type": "code",
   "execution_count": 160,
   "metadata": {},
   "outputs": [
    {
     "name": "stdout",
     "output_type": "stream",
     "text": [
      "0.24536118100942528\n"
     ]
    }
   ],
   "source": [
    "ZVV_best_model, ZVV_best_r2 = model_trainer(ZVV_X_data , ZVV_Y_data, 100)\n",
    "print(ZVV_best_r2)"
   ]
  }
 ],
 "metadata": {
  "kernelspec": {
   "display_name": "Python 3",
   "language": "python",
   "name": "python3"
  },
  "language_info": {
   "codemirror_mode": {
    "name": "ipython",
    "version": 3
   },
   "file_extension": ".py",
   "mimetype": "text/x-python",
   "name": "python",
   "nbconvert_exporter": "python",
   "pygments_lexer": "ipython3",
   "version": "3.7.6"
  }
 },
 "nbformat": 4,
 "nbformat_minor": 4
}
